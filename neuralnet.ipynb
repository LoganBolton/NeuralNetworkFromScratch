{
 "cells": [
  {
   "cell_type": "code",
   "execution_count": 837,
   "id": "73da0f51",
   "metadata": {},
   "outputs": [],
   "source": [
    "import numpy as np\n",
    "import matplotlib.pyplot as plt\n",
    "import pandas as pd\n",
    "from mpl_toolkits.mplot3d import Axes3D"
   ]
  },
  {
   "cell_type": "code",
   "execution_count": 838,
   "id": "11d4c083-0801-48a8-ba8c-0f57ed4a1093",
   "metadata": {},
   "outputs": [],
   "source": [
    "def read_ubyte_file(file_path):\n",
    "    with open(file_path, 'rb') as f:\n",
    "        # Read the magic number\n",
    "        magic_number = int.from_bytes(f.read(4), 'big')\n",
    "        \n",
    "        if magic_number == 2051:  # Magic number for images\n",
    "            num_images = int.from_bytes(f.read(4), 'big')\n",
    "            rows = int.from_bytes(f.read(4), 'big')\n",
    "            cols = int.from_bytes(f.read(4), 'big')\n",
    "            images = np.frombuffer(f.read(), dtype=np.uint8).reshape(num_images, rows, cols)\n",
    "            return images\n",
    "        \n",
    "        elif magic_number == 2049:  # Magic number for labels\n",
    "            num_labels = int.from_bytes(f.read(4), 'big')\n",
    "            labels = np.frombuffer(f.read(), dtype=np.uint8)\n",
    "            return labels\n",
    "        \n",
    "        else:\n",
    "            raise ValueError('Invalid magic number in file header')\n",
    "\n",
    "train_images_path = './data/train-images-idx3-ubyte'\n",
    "train_labels_path = './data/train-labels-idx1-ubyte'\n",
    "\n",
    "train_images = read_ubyte_file(train_images_path)\n",
    "train_labels = read_ubyte_file(train_labels_path)\n"
   ]
  },
  {
   "cell_type": "code",
   "execution_count": 839,
   "id": "c4909754",
   "metadata": {},
   "outputs": [
    {
     "name": "stdout",
     "output_type": "stream",
     "text": [
      "(60000,)\n",
      "5\n"
     ]
    }
   ],
   "source": [
    "print(train_labels.shape)\n",
    "print(train_labels[0])"
   ]
  },
  {
   "cell_type": "code",
   "execution_count": 840,
   "id": "8fb97853",
   "metadata": {},
   "outputs": [
    {
     "name": "stdout",
     "output_type": "stream",
     "text": [
      "(60000, 28, 28)\n"
     ]
    }
   ],
   "source": [
    "print(train_images.shape)\n",
    "# go from (60000, 28, 28) to (60000, 784)\n",
    "X = train_images.reshape(train_images.shape[0],train_images.shape[1]*train_images.shape[2])\n",
    "# print(train_images[0])\n",
    "X = X/255.0\n",
    "# print(X[0])"
   ]
  },
  {
   "cell_type": "code",
   "execution_count": 841,
   "id": "787dfe4d",
   "metadata": {},
   "outputs": [],
   "source": [
    "def init_params():\n",
    "    # each pixel from image needs to point to 10 hidden neurons\n",
    "    # initialized with normal distribution\n",
    "    # W1 = np.random.randn(784, 10) * 0.01 \n",
    "    # initialized with constant value\n",
    "    W1 = np.full((784, 10), 0.0)   \n",
    "    \n",
    "    # weights = np.linspace(0, 0.5, num = 784*10)\n",
    "    # np.random.shuffle(weights)\n",
    "    # W1 = weights.reshape(784, 10)\n",
    "    \n",
    "\n",
    "    #1 bias for each of the 10 hidden neurons\n",
    "    b1 = np.random.randn(1, 10) * 0.01   \n",
    "    \n",
    "    # each of the 10 hidden neurons needs to point to each of the 10 output neurons\n",
    "    W2 = np.random.randn(10, 10) * 0.01  \n",
    "    # 1 bias for each of the 10 output neurons\n",
    "    b2 = np.random.randn(1, 10) * 0.01   \n",
    "    \n",
    "    return W1, b1, W2, b2"
   ]
  },
  {
   "cell_type": "code",
   "execution_count": 842,
   "id": "81f61cd3",
   "metadata": {},
   "outputs": [],
   "source": [
    "def ReLU(x):\n",
    "    # normal ReLU\n",
    "    # return np.maximum(0, x)\n",
    "    \n",
    "    # LEAKY RELU \n",
    "    return np.where(x > 0, x, 0.01 * x)"
   ]
  },
  {
   "cell_type": "code",
   "execution_count": 843,
   "id": "0c0c1ee3",
   "metadata": {},
   "outputs": [],
   "source": [
    "def soft_max(Z):\n",
    "    exp_Z = np.exp(Z - np.max(Z, axis=1, keepdims=True))  # Subtract max for numerical stability\n",
    "    return exp_Z / np.sum(exp_Z, axis=1, keepdims=True)"
   ]
  },
  {
   "cell_type": "code",
   "execution_count": 844,
   "id": "afe0c7ab",
   "metadata": {},
   "outputs": [],
   "source": [
    "def one_hot_encode(labels, num_classes):\n",
    "    # Initialize a matrix of zeros with shape (number of labels, number of classes)\n",
    "    one_hot = np.zeros((labels.size, num_classes))\n",
    "    \n",
    "    # Set the corresponding index to 1 for each label\n",
    "    one_hot[np.arange(labels.size), labels] = 1\n",
    "    \n",
    "    return one_hot\n",
    "\n",
    "Y = one_hot_encode(train_labels, 10)"
   ]
  },
  {
   "cell_type": "markdown",
   "id": "64318c21",
   "metadata": {},
   "source": [
    "### Loss Function Explanation\n",
    "\n",
    "We want to maximize the probability of choosing the correct category.\n",
    "\n",
    "We can maximize the chances of having the correct probability by minimizing the negative log likelihood. We want to somehow maximize by minimizing.\n",
    "\n",
    "#### Why use log?\n",
    "\n",
    "Why we want to wrap everything with a logarithm? Computers are capable of almost anything, except exact numeric representation.\n",
    "\n",
    "It can happen that after multiplying things together you will end up losing precision if the numbers are too high or too low. By using the log of a number like 1e-100, the log becomes something close to -230, much easier to be represented by a computer\n",
    "\n",
    "### Why are we using a vector with the correct index noted?\n",
    "\n",
    "imagine for some input we got the following probabilities: [0.1, 0.3, 0.5, 0.1], 4 possible classes. If the true answer would be the forth class, as a vector [0, 0, 0, 1], the likelihood of the current state of the model producing the input is:\n",
    "\n",
    "0\\*0.3 + 0\\*0.1 + 0\\*0.5 + 1\\*0.1 = 0.1.\n",
    "\n",
    "NLL: -ln(0.1) = 2.3\n",
    "\n",
    "Instead, if the correct category would have been the third class [0, 0, 1, 0]:\n",
    "\n",
    "0\\*0.3 + 0\\*0.1 + 1\\*0.5 + 0\\*0.1 = 0.5\n",
    "\n",
    "NLL: -ln(0.5) = 0.69\n",
    "\n",
    "<br>\n",
    "\n",
    "*modified article from: https://medium.com/deeplearningmadeeasy/negative-log-likelihood-6bd79b55d8b6*\n",
    "\n",
    "$$\n",
    "\\text{result} = \\{ A2_{i, Y_{\\text{int}, i}} \\mid i \\in \\{0, 1, \\ldots, m-1\\} \\}\n",
    "\\\\\n",
    "\\\\\n",
    "result = A2[np.arange(m), Y_int] \n",
    "$$"
   ]
  },
  {
   "cell_type": "code",
   "execution_count": 845,
   "id": "f91b00ec",
   "metadata": {},
   "outputs": [],
   "source": [
    "def compute_loss(A2, Y):\n",
    "    # m = number of examples\n",
    "    m = Y.shape[0]\n",
    "    \n",
    "    # y_int is the index of the correct class in encoded vector\n",
    "    Y_int = np.argmax(Y, axis=1)\n",
    "\n",
    "    # Calculate the negative log likelihood\n",
    "    # np.arrange(m) returns an array with values from 0 to m-1\n",
    "    # \n",
    "    log_probs = -np.log(A2[np.arange(m), Y_int])\n",
    "    \n",
    "    # take the average loss\n",
    "    loss = np.sum(log_probs) / m\n",
    "    return loss"
   ]
  },
  {
   "cell_type": "code",
   "execution_count": 846,
   "id": "94150ae2",
   "metadata": {},
   "outputs": [],
   "source": [
    "def forward(X, W1, b1, W2, b2, Y):\n",
    "    Z1 = np.dot(X, W1) + b1\n",
    "    A1 = ReLU(Z1)\n",
    "    Z2 = np.dot(A1, W2) + b2\n",
    "    A2 = soft_max(Z2)\n",
    "    return Z1, A1, Z2, A2"
   ]
  },
  {
   "cell_type": "code",
   "execution_count": 847,
   "id": "aa76a96f",
   "metadata": {},
   "outputs": [],
   "source": [
    "# all these derivatives are actually dL/d(whatever)\n",
    "# we are finding out how each parameter affects the loss\n",
    "def back_prop(X, Y, Z1, A1, Z2, A2, W1, W2, b1, b2, learning_rate):\n",
    "    # used to find the normalized gradient\n",
    "    # m = num of training examples in batch\n",
    "    m = X.shape[0]\n",
    "    \n",
    "    # gradient of loss with respect to output\n",
    "    dZ2 = A2 - Y\n",
    "    \n",
    "    # multiply the output of h1 by the change in the output\n",
    "    dW2 = np.dot(A1.T, dZ2) / m\n",
    "    \n",
    "    # finds the average bias\n",
    "    db2 = np.sum(dZ2, axis=0, keepdims=True) / m\n",
    "    \n",
    "    dA = np.dot(dZ2, W2.T)\n",
    "    \n",
    "    # relu derivative\n",
    "    dZ1 = dA * (Z1 > 0)\n",
    "    \n",
    "    dW1 = np.dot(X.T, dZ1) / m\n",
    "    db1 = np.sum(dZ1, axis=0, keepdims=True) / m\n",
    "    \n",
    "    return dW1, db1, dW2, db2"
   ]
  },
  {
   "cell_type": "code",
   "execution_count": 848,
   "id": "24a2a959",
   "metadata": {},
   "outputs": [],
   "source": [
    "def update_params(W1, b1, W2, b2, dW1, db1, dW2, db2, learning_rate):\n",
    "    W1 -= learning_rate * dW1\n",
    "    b1 -= learning_rate * db1\n",
    "    W2 -= learning_rate * dW2\n",
    "    b2 -= learning_rate * db2\n",
    "    return W1, b1, W2, b2"
   ]
  },
  {
   "cell_type": "code",
   "execution_count": 849,
   "id": "f0d2ef48",
   "metadata": {},
   "outputs": [],
   "source": [
    "def step_decay(epoch, initial_lr=0.01, drop=0.5, epochs_drop=200):\n",
    "    \"\"\"\n",
    "    Step decay schedule to decrease learning rate by a factor every few epochs.\n",
    "    \"\"\"\n",
    "    return initial_lr * (drop ** (epoch // epochs_drop))"
   ]
  },
  {
   "cell_type": "markdown",
   "id": "b881e60c",
   "metadata": {},
   "source": [
    "# Training"
   ]
  },
  {
   "cell_type": "code",
   "execution_count": 850,
   "id": "a173f86f",
   "metadata": {},
   "outputs": [],
   "source": [
    "def train(X, Y, W1, b1, W2, b2, initial_lr, epochs):\n",
    "    W1_list, b1_list, W2_list, b2_list = [], [], [], []\n",
    "    for i in range(epochs):\n",
    "        # learning_rate = step_decay(i, initial_lr)\n",
    "        learning_rate = initial_lr\n",
    "        \n",
    "        # forward\n",
    "        Z1, A1, Z2, A2 = forward(X, W1, b1, W2, b2, Y)\n",
    "        loss = compute_loss(A2, Y)\n",
    "        #backward\n",
    "        dW1, db1, dW2, db2 = back_prop(X, Y, Z1, A1, Z2, A2, W1, W2, b1, b2, learning_rate)\n",
    "        \n",
    "        W1, b1, W2, b2 = update_params(W1, b1, W2, b2, dW1, db1, dW2, db2, learning_rate)\n",
    "\n",
    "        if i % 50 == 0:\n",
    "            print(f'Epoch {i}: loss = {loss}    lr = {learning_rate}')\n",
    "            W1_list.append(np.round(W1, 3))\n",
    "            b1_list.append(np.round(b1, 3))\n",
    "            W2_list.append(np.round(W2, 3))\n",
    "            b2_list.append(np.round(b2, 3))\n",
    "    return W1, b1, W2, b2, W1_list, b1_list, W2_list, b2_list\n",
    "        "
   ]
  },
  {
   "cell_type": "code",
   "execution_count": 851,
   "id": "217b2fb5",
   "metadata": {},
   "outputs": [],
   "source": [
    "W1, b1, W2, b2 = init_params()"
   ]
  },
  {
   "cell_type": "code",
   "execution_count": 852,
   "id": "cf89790d",
   "metadata": {},
   "outputs": [
    {
     "name": "stdout",
     "output_type": "stream",
     "text": [
      "Epoch 0: loss = 2.3026045953681264    lr = 0.1\n",
      "Epoch 50: loss = 2.2818225575000675    lr = 0.1\n",
      "Epoch 100: loss = 1.7647325773793439    lr = 0.1\n",
      "Epoch 150: loss = 1.0020644599106279    lr = 0.1\n",
      "Epoch 200: loss = 0.7114971487565517    lr = 0.1\n",
      "Epoch 250: loss = 0.584455932176505    lr = 0.1\n",
      "Epoch 300: loss = 0.5181529406597244    lr = 0.1\n",
      "Epoch 350: loss = 0.47713010774719283    lr = 0.1\n",
      "Epoch 400: loss = 0.44932841104942295    lr = 0.1\n",
      "Epoch 450: loss = 0.42928924157290493    lr = 0.1\n"
     ]
    }
   ],
   "source": [
    "num_epochs = 500\n",
    "learning_rate = 0.1\n",
    "W1, b1, W2, b2, W1_list, b1_list, W2_list, b2_list = train(X, Y, W1, b1, W2, b2, learning_rate, num_epochs)"
   ]
  },
  {
   "cell_type": "code",
   "execution_count": 853,
   "id": "6ac9cc88",
   "metadata": {},
   "outputs": [
    {
     "name": "stdout",
     "output_type": "stream",
     "text": [
      "Accuracy: 0.88340\n"
     ]
    }
   ],
   "source": [
    "def get_predictions(A2):\n",
    "    return np.argmax(A2, axis=1)\n",
    "\n",
    "def get_accuracy(predictions, Y):\n",
    "    # Convert one-hot encoded Y to integer labels\n",
    "    Y_int = np.argmax(Y, axis=1)\n",
    "    return np.sum(predictions == Y_int) / Y_int.size\n",
    "\n",
    "#returns output\n",
    "_, _, _, A2 = forward(X, W1, b1, W2, b2, Y)\n",
    "\n",
    "# Get predictions from the output layer activations\n",
    "predictions = get_predictions(A2)\n",
    "\n",
    "# Calculate and print the accuracy\n",
    "accuracy = get_accuracy(predictions, Y)\n",
    "print(f'Accuracy: {accuracy:.5f}')"
   ]
  },
  {
   "cell_type": "code",
   "execution_count": 854,
   "id": "16de00dd",
   "metadata": {},
   "outputs": [
    {
     "name": "stdout",
     "output_type": "stream",
     "text": [
      "10\n"
     ]
    }
   ],
   "source": [
    "print(len(W1_list))"
   ]
  },
  {
   "cell_type": "code",
   "execution_count": 855,
   "id": "030da485",
   "metadata": {},
   "outputs": [
    {
     "data": {
      "image/png": "[encoded data removed]",
      "text/plain": [
       "<Figure size 1000x500 with 1 Axes>"
      ]
     },
     "metadata": {},
     "output_type": "display_data"
    }
   ],
   "source": [
    "# def plot_heatmap(weights, epoch, layer):\n",
    "#     plt.figure(figsize=(10, 5))\n",
    "#     plt.imshow(weights, aspect='auto', cmap='viridis')\n",
    "#     plt.colorbar()\n",
    "#     plt.title(f'Heatmap of Weights - Layer {layer} - Epoch {epoch}')\n",
    "#     plt.xlabel('Neurons')\n",
    "#     plt.ylabel('Weights')\n",
    "#     plt.show()\n",
    "\n",
    "def plot_histogram(weights, epoch, layer):\n",
    "    plt.figure(figsize=(10, 5))\n",
    "    plt.hist(weights[epoch//50].flatten(), bins=10, alpha=1)\n",
    "    plt.title(f'Histogram of Weights - Layer {layer} - Epoch {epoch}')\n",
    "    plt.xlabel('Weight Value')\n",
    "    plt.ylabel('Frequency')\n",
    "    plt.show()\n",
    "    \n",
    "epochs = 499\n",
    "# Visualize weights and biases\n",
    "# plot_heatmap(W1, epoch*100, layer=1)\n",
    "plot_histogram(W1_list, epochs, layer=1)\n",
    "# plot_heatmap(W2, epoch*100, layer=2)\n",
    "# plot_histogram(W2_list, epochs, layer=2)"
   ]
  },
  {
   "cell_type": "code",
   "execution_count": 856,
   "id": "0d2ecaae",
   "metadata": {},
   "outputs": [
    {
     "name": "stdout",
     "output_type": "stream",
     "text": [
      "[[0. 0. 0. ... 0. 0. 0.]\n",
      " [0. 0. 0. ... 0. 0. 0.]\n",
      " [0. 0. 0. ... 0. 0. 0.]\n",
      " ...\n",
      " [0. 0. 0. ... 0. 0. 0.]\n",
      " [0. 0. 0. ... 0. 0. 0.]\n",
      " [0. 0. 0. ... 0. 0. 0.]]\n",
      "Unique values in W1_list: [0.]\n"
     ]
    }
   ],
   "source": [
    "# W1_rounded = np.round(W1_list, 2)\n",
    "unique_values = np.unique(W1_list[0])\n",
    "# print(len(W1_list))\n",
    "print(W1_list[0])\n",
    "print(\"Unique values in W1_list:\", unique_values)\n",
    "# print(len(unique_values))"
   ]
  },
  {
   "cell_type": "markdown",
   "id": "d4fe94d3",
   "metadata": {},
   "source": []
  },
  {
   "cell_type": "markdown",
   "id": "4aceadb9",
   "metadata": {},
   "source": [
    "# Data Observations\n",
    "\n",
    "Weights seem to follow some sort of predictable distribution while biases do not exhibit this behavior at all. \n",
    "\n",
    "Even when you initialize all the weights to be a constant value, they spread out to become more like a normal distribution after training.\n",
    "\n",
    "One reason why this may be is because there are signigicantly more weights than biases. There are 784*10 weights for the first hidden layer while there are only 10 biases. Biases may follow some sort of predictable pattern, it is just difficult to see this with their lack of frequency. \n",
    "\n",
    "\n",
    "## Weight initializations\n",
    "\n",
    "While creating this neural network, I experimented with different methods of initializing the weights. The standard method of using normal distribution to initialize weights of course works well. \n",
    "\n",
    "What was surprising to me was how resiliant yet simultaneously sensitive the network is to initializations. Even if you initialize all the weights to a constant value like 0, the model will still be able to learn quite effectively (accuracy of 0.82). However, if you keep pushing this value further and further from zero, it eventually just completely breaks and can't learn at all. \n",
    "\n",
    "Initilization results:\n",
    "- Normal Distribution with 0.01 std deviation\n",
    "    - 0.89\n",
    "- -0.1\n",
    "    - 0.11 accuracy\n",
    "- -0.5\n",
    "    - 0.11 accuracy\n",
    "- -0.05\n",
    "    - 0.11 accuracy\n",
    "- -0.001\n",
    "    - 0.11 accuracy\n",
    "    - With Leaky ReLU\n",
    "        - 0.89 (!!!)\n",
    "- 0\n",
    "    - 0.86 accuracy\n",
    "    - With Leaky ReLU\n",
    "        - 0.87\n",
    "- 0.1\n",
    "    - 0.89 accuracy (!!!)\n",
    "- 0.125\n",
    "    - 0.88 accuracy\n",
    "- 0.175\n",
    "    - 0.43 accuracy\n",
    "- 0.2\n",
    "    - 0.11 accuracy\n",
    "\n",
    "One might predict that the model should be able to learn regardless of the initial weights, but this does not seem to be true at all. After about 1.5 initial weights, the model does HEAVILY struggles to learn. This is a very interesting result"
   ]
  },
  {
   "cell_type": "markdown",
   "id": "96c12730",
   "metadata": {},
   "source": []
  }
 ],
 "metadata": {
  "kernelspec": {
   "display_name": "Python 3 (ipykernel)",
   "language": "python",
   "name": "python3"
  },
  "language_info": {
   "codemirror_mode": {
    "name": "ipython",
    "version": 3
   },
   "file_extension": ".py",
   "mimetype": "text/x-python",
   "name": "python",
   "nbconvert_exporter": "python",
   "pygments_lexer": "ipython3",
   "version": "3.12.2"
  }
 },
 "nbformat": 4,
 "nbformat_minor": 5
}
